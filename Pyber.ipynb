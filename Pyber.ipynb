{
 "cells": [
  {
   "cell_type": "markdown",
   "metadata": {},
   "source": [
    "Matplotlib Homework\n",
    "Nimo Osman \n",
    "02 July 2019"
   ]
  },
  {
   "cell_type": "code",
   "execution_count": 247,
   "metadata": {},
   "outputs": [],
   "source": [
    " %matplotlib inline\n",
    "\n",
    "#Importing Dependencies\n",
    "import os\n",
    "import csv\n",
    "import matplotlib.pyplot as plt\n",
    "import pandas as pd\n",
    "import numpy as np\n",
    "\n"
   ]
  },
  {
   "cell_type": "code",
   "execution_count": 248,
   "metadata": {},
   "outputs": [],
   "source": [
    "#Data Path\n",
    "city_data = os.path.join(r\"C:\\Users\\Lenovo_7\\Desktop\\Resources\\Matplotlib_Homework\\city_data.csv\")\n",
    "ride_data = os.path.join(r\"C:\\Users\\Lenovo_7\\Desktop\\Resources\\Matplotlib_Homework\\ride_data.csv\")\n"
   ]
  },
  {
   "cell_type": "code",
   "execution_count": 249,
   "metadata": {},
   "outputs": [
    {
     "name": "stdout",
     "output_type": "stream",
     "text": [
      "Header: city,date,fare,ride_id\r\n",
      "\n"
     ]
    }
   ],
   "source": [
    "#Reading Data\n",
    "with open(ride_data, newline=\"\") as csvfile:\n",
    "    csvreader = csv.reader(csvfile, delimiter=\",\")\n",
    "    csv_header = next(csvfile)\n",
    "    print(f\"Header: {csv_header}\")\n"
   ]
  },
  {
   "cell_type": "code",
   "execution_count": 250,
   "metadata": {},
   "outputs": [],
   "source": [
    "# Combine the data into a single dataset\n",
    "\n",
    "city_data_df = pd.read_csv(city_data)\n",
    "ride_data_df = pd.read_csv(ride_data)\n",
    "combined_data_df = pd.merge(city_data_df, ride_data_df, on='city')\n",
    "# Display the data tables for preview\n",
    "combined_data_df = combined_data_df.drop_duplicates(\"ride_id\")\n",
    "\n"
   ]
  },
  {
   "cell_type": "code",
   "execution_count": 251,
   "metadata": {},
   "outputs": [
    {
     "data": {
      "text/html": [
       "<div>\n",
       "<style scoped>\n",
       "    .dataframe tbody tr th:only-of-type {\n",
       "        vertical-align: middle;\n",
       "    }\n",
       "\n",
       "    .dataframe tbody tr th {\n",
       "        vertical-align: top;\n",
       "    }\n",
       "\n",
       "    .dataframe thead th {\n",
       "        text-align: right;\n",
       "    }\n",
       "</style>\n",
       "<table border=\"1\" class=\"dataframe\">\n",
       "  <thead>\n",
       "    <tr style=\"text-align: right;\">\n",
       "      <th></th>\n",
       "      <th>city</th>\n",
       "      <th>driver_count</th>\n",
       "      <th>type</th>\n",
       "    </tr>\n",
       "  </thead>\n",
       "  <tbody>\n",
       "    <tr>\n",
       "      <th>25</th>\n",
       "      <td>West Samuelburgh</td>\n",
       "      <td>73</td>\n",
       "      <td>Urban</td>\n",
       "    </tr>\n",
       "    <tr>\n",
       "      <th>49</th>\n",
       "      <td>South Michelleport</td>\n",
       "      <td>72</td>\n",
       "      <td>Urban</td>\n",
       "    </tr>\n",
       "    <tr>\n",
       "      <th>5</th>\n",
       "      <td>West Anthony</td>\n",
       "      <td>70</td>\n",
       "      <td>Urban</td>\n",
       "    </tr>\n",
       "    <tr>\n",
       "      <th>30</th>\n",
       "      <td>Liumouth</td>\n",
       "      <td>69</td>\n",
       "      <td>Urban</td>\n",
       "    </tr>\n",
       "    <tr>\n",
       "      <th>15</th>\n",
       "      <td>Reynoldsfurt</td>\n",
       "      <td>67</td>\n",
       "      <td>Urban</td>\n",
       "    </tr>\n",
       "    <tr>\n",
       "      <th>2</th>\n",
       "      <td>Port Angela</td>\n",
       "      <td>67</td>\n",
       "      <td>Urban</td>\n",
       "    </tr>\n",
       "    <tr>\n",
       "      <th>38</th>\n",
       "      <td>East Kaylahaven</td>\n",
       "      <td>65</td>\n",
       "      <td>Urban</td>\n",
       "    </tr>\n",
       "    <tr>\n",
       "      <th>20</th>\n",
       "      <td>Jerryton</td>\n",
       "      <td>64</td>\n",
       "      <td>Urban</td>\n",
       "    </tr>\n",
       "    <tr>\n",
       "      <th>32</th>\n",
       "      <td>Royland</td>\n",
       "      <td>64</td>\n",
       "      <td>Urban</td>\n",
       "    </tr>\n",
       "    <tr>\n",
       "      <th>26</th>\n",
       "      <td>Grahamburgh</td>\n",
       "      <td>61</td>\n",
       "      <td>Urban</td>\n",
       "    </tr>\n",
       "  </tbody>\n",
       "</table>\n",
       "</div>"
      ],
      "text/plain": [
       "                  city  driver_count   type\n",
       "25    West Samuelburgh            73  Urban\n",
       "49  South Michelleport            72  Urban\n",
       "5         West Anthony            70  Urban\n",
       "30            Liumouth            69  Urban\n",
       "15        Reynoldsfurt            67  Urban\n",
       "2          Port Angela            67  Urban\n",
       "38     East Kaylahaven            65  Urban\n",
       "20            Jerryton            64  Urban\n",
       "32             Royland            64  Urban\n",
       "26         Grahamburgh            61  Urban"
      ]
     },
     "execution_count": 251,
     "metadata": {},
     "output_type": "execute_result"
    }
   ],
   "source": [
    "city_data_df.sort_values(by=\"driver_count\", ascending=False).head(10)\n"
   ]
  },
  {
   "cell_type": "code",
   "execution_count": 252,
   "metadata": {},
   "outputs": [
    {
     "data": {
      "text/html": [
       "<div>\n",
       "<style scoped>\n",
       "    .dataframe tbody tr th:only-of-type {\n",
       "        vertical-align: middle;\n",
       "    }\n",
       "\n",
       "    .dataframe tbody tr th {\n",
       "        vertical-align: top;\n",
       "    }\n",
       "\n",
       "    .dataframe thead th {\n",
       "        text-align: right;\n",
       "    }\n",
       "</style>\n",
       "<table border=\"1\" class=\"dataframe\">\n",
       "  <thead>\n",
       "    <tr style=\"text-align: right;\">\n",
       "      <th></th>\n",
       "      <th>city</th>\n",
       "      <th>date</th>\n",
       "      <th>fare</th>\n",
       "      <th>ride_id</th>\n",
       "    </tr>\n",
       "  </thead>\n",
       "  <tbody>\n",
       "    <tr>\n",
       "      <th>2290</th>\n",
       "      <td>Randallchester</td>\n",
       "      <td>2/19/2018 3:52</td>\n",
       "      <td>58.55</td>\n",
       "      <td>8.004800e+12</td>\n",
       "    </tr>\n",
       "    <tr>\n",
       "      <th>2360</th>\n",
       "      <td>Jessicaport</td>\n",
       "      <td>1/31/2018 17:57</td>\n",
       "      <td>58.29</td>\n",
       "      <td>6.231550e+11</td>\n",
       "    </tr>\n",
       "    <tr>\n",
       "      <th>2262</th>\n",
       "      <td>Bradshawfurt</td>\n",
       "      <td>3/24/2018 18:53</td>\n",
       "      <td>57.51</td>\n",
       "      <td>2.302000e+12</td>\n",
       "    </tr>\n",
       "    <tr>\n",
       "      <th>2354</th>\n",
       "      <td>South Saramouth</td>\n",
       "      <td>4/12/2018 18:11</td>\n",
       "      <td>57.23</td>\n",
       "      <td>5.081200e+12</td>\n",
       "    </tr>\n",
       "    <tr>\n",
       "      <th>2330</th>\n",
       "      <td>Bradshawfurt</td>\n",
       "      <td>1/19/2018 20:21</td>\n",
       "      <td>56.78</td>\n",
       "      <td>1.253400e+12</td>\n",
       "    </tr>\n",
       "    <tr>\n",
       "      <th>2341</th>\n",
       "      <td>Michaelberg</td>\n",
       "      <td>3/10/2018 10:05</td>\n",
       "      <td>56.48</td>\n",
       "      <td>3.757070e+12</td>\n",
       "    </tr>\n",
       "    <tr>\n",
       "      <th>2374</th>\n",
       "      <td>Newtonview</td>\n",
       "      <td>4/25/2018 10:20</td>\n",
       "      <td>55.84</td>\n",
       "      <td>9.990580e+12</td>\n",
       "    </tr>\n",
       "    <tr>\n",
       "      <th>2267</th>\n",
       "      <td>South Marychester</td>\n",
       "      <td>2/21/2018 19:16</td>\n",
       "      <td>55.40</td>\n",
       "      <td>8.822360e+12</td>\n",
       "    </tr>\n",
       "    <tr>\n",
       "      <th>2294</th>\n",
       "      <td>Bradshawfurt</td>\n",
       "      <td>4/8/2018 13:46</td>\n",
       "      <td>55.19</td>\n",
       "      <td>1.742950e+12</td>\n",
       "    </tr>\n",
       "    <tr>\n",
       "      <th>2252</th>\n",
       "      <td>Michaelberg</td>\n",
       "      <td>3/27/2018 18:27</td>\n",
       "      <td>54.85</td>\n",
       "      <td>4.421840e+12</td>\n",
       "    </tr>\n",
       "  </tbody>\n",
       "</table>\n",
       "</div>"
      ],
      "text/plain": [
       "                   city             date   fare       ride_id\n",
       "2290     Randallchester   2/19/2018 3:52  58.55  8.004800e+12\n",
       "2360        Jessicaport  1/31/2018 17:57  58.29  6.231550e+11\n",
       "2262       Bradshawfurt  3/24/2018 18:53  57.51  2.302000e+12\n",
       "2354    South Saramouth  4/12/2018 18:11  57.23  5.081200e+12\n",
       "2330       Bradshawfurt  1/19/2018 20:21  56.78  1.253400e+12\n",
       "2341        Michaelberg  3/10/2018 10:05  56.48  3.757070e+12\n",
       "2374         Newtonview  4/25/2018 10:20  55.84  9.990580e+12\n",
       "2267  South Marychester  2/21/2018 19:16  55.40  8.822360e+12\n",
       "2294       Bradshawfurt   4/8/2018 13:46  55.19  1.742950e+12\n",
       "2252        Michaelberg  3/27/2018 18:27  54.85  4.421840e+12"
      ]
     },
     "execution_count": 252,
     "metadata": {},
     "output_type": "execute_result"
    }
   ],
   "source": [
    "ride_data_df.sort_values(by=\"fare\", ascending=False).head(10)\n"
   ]
  },
  {
   "cell_type": "code",
   "execution_count": 253,
   "metadata": {},
   "outputs": [
    {
     "data": {
      "text/html": [
       "<div>\n",
       "<style scoped>\n",
       "    .dataframe tbody tr th:only-of-type {\n",
       "        vertical-align: middle;\n",
       "    }\n",
       "\n",
       "    .dataframe tbody tr th {\n",
       "        vertical-align: top;\n",
       "    }\n",
       "\n",
       "    .dataframe thead th {\n",
       "        text-align: right;\n",
       "    }\n",
       "</style>\n",
       "<table border=\"1\" class=\"dataframe\">\n",
       "  <thead>\n",
       "    <tr style=\"text-align: right;\">\n",
       "      <th></th>\n",
       "      <th>city</th>\n",
       "      <th>driver_count</th>\n",
       "      <th>type</th>\n",
       "      <th>date</th>\n",
       "      <th>fare</th>\n",
       "      <th>ride_id</th>\n",
       "    </tr>\n",
       "  </thead>\n",
       "  <tbody>\n",
       "    <tr>\n",
       "      <th>638</th>\n",
       "      <td>West Samuelburgh</td>\n",
       "      <td>73</td>\n",
       "      <td>Urban</td>\n",
       "      <td>2/22/2018 22:11</td>\n",
       "      <td>17.35</td>\n",
       "      <td>3.943010e+12</td>\n",
       "    </tr>\n",
       "    <tr>\n",
       "      <th>1211</th>\n",
       "      <td>South Michelleport</td>\n",
       "      <td>72</td>\n",
       "      <td>Urban</td>\n",
       "      <td>3/2/2018 9:54</td>\n",
       "      <td>33.12</td>\n",
       "      <td>8.138440e+11</td>\n",
       "    </tr>\n",
       "    <tr>\n",
       "      <th>125</th>\n",
       "      <td>West Anthony</td>\n",
       "      <td>70</td>\n",
       "      <td>Urban</td>\n",
       "      <td>1/23/2018 12:32</td>\n",
       "      <td>23.24</td>\n",
       "      <td>5.966010e+11</td>\n",
       "    </tr>\n",
       "    <tr>\n",
       "      <th>751</th>\n",
       "      <td>Liumouth</td>\n",
       "      <td>69</td>\n",
       "      <td>Urban</td>\n",
       "      <td>4/29/2018 6:57</td>\n",
       "      <td>23.99</td>\n",
       "      <td>8.194420e+11</td>\n",
       "    </tr>\n",
       "    <tr>\n",
       "      <th>57</th>\n",
       "      <td>Port Angela</td>\n",
       "      <td>67</td>\n",
       "      <td>Urban</td>\n",
       "      <td>4/22/2018 16:43</td>\n",
       "      <td>7.91</td>\n",
       "      <td>6.767310e+12</td>\n",
       "    </tr>\n",
       "    <tr>\n",
       "      <th>387</th>\n",
       "      <td>Reynoldsfurt</td>\n",
       "      <td>67</td>\n",
       "      <td>Urban</td>\n",
       "      <td>2/14/2018 11:25</td>\n",
       "      <td>39.40</td>\n",
       "      <td>9.070690e+12</td>\n",
       "    </tr>\n",
       "    <tr>\n",
       "      <th>940</th>\n",
       "      <td>East Kaylahaven</td>\n",
       "      <td>65</td>\n",
       "      <td>Urban</td>\n",
       "      <td>2/28/2018 16:46</td>\n",
       "      <td>33.72</td>\n",
       "      <td>1.224920e+12</td>\n",
       "    </tr>\n",
       "    <tr>\n",
       "      <th>782</th>\n",
       "      <td>Royland</td>\n",
       "      <td>64</td>\n",
       "      <td>Urban</td>\n",
       "      <td>4/19/2018 0:05</td>\n",
       "      <td>25.40</td>\n",
       "      <td>9.847760e+12</td>\n",
       "    </tr>\n",
       "    <tr>\n",
       "      <th>493</th>\n",
       "      <td>Jerryton</td>\n",
       "      <td>64</td>\n",
       "      <td>Urban</td>\n",
       "      <td>3/27/2018 12:48</td>\n",
       "      <td>13.29</td>\n",
       "      <td>8.959840e+12</td>\n",
       "    </tr>\n",
       "    <tr>\n",
       "      <th>666</th>\n",
       "      <td>Grahamburgh</td>\n",
       "      <td>61</td>\n",
       "      <td>Urban</td>\n",
       "      <td>4/10/2018 1:16</td>\n",
       "      <td>37.67</td>\n",
       "      <td>1.448870e+12</td>\n",
       "    </tr>\n",
       "  </tbody>\n",
       "</table>\n",
       "</div>"
      ],
      "text/plain": [
       "                    city  driver_count   type             date   fare  \\\n",
       "638     West Samuelburgh            73  Urban  2/22/2018 22:11  17.35   \n",
       "1211  South Michelleport            72  Urban    3/2/2018 9:54  33.12   \n",
       "125         West Anthony            70  Urban  1/23/2018 12:32  23.24   \n",
       "751             Liumouth            69  Urban   4/29/2018 6:57  23.99   \n",
       "57           Port Angela            67  Urban  4/22/2018 16:43   7.91   \n",
       "387         Reynoldsfurt            67  Urban  2/14/2018 11:25  39.40   \n",
       "940      East Kaylahaven            65  Urban  2/28/2018 16:46  33.72   \n",
       "782              Royland            64  Urban   4/19/2018 0:05  25.40   \n",
       "493             Jerryton            64  Urban  3/27/2018 12:48  13.29   \n",
       "666          Grahamburgh            61  Urban   4/10/2018 1:16  37.67   \n",
       "\n",
       "           ride_id  \n",
       "638   3.943010e+12  \n",
       "1211  8.138440e+11  \n",
       "125   5.966010e+11  \n",
       "751   8.194420e+11  \n",
       "57    6.767310e+12  \n",
       "387   9.070690e+12  \n",
       "940   1.224920e+12  \n",
       "782   9.847760e+12  \n",
       "493   8.959840e+12  \n",
       "666   1.448870e+12  "
      ]
     },
     "execution_count": 253,
     "metadata": {},
     "output_type": "execute_result"
    }
   ],
   "source": [
    "combined_data_df.sort_values(by=\"driver_count\", ascending=False).drop_duplicates(\"city\").head(10)"
   ]
  },
  {
   "cell_type": "code",
   "execution_count": 254,
   "metadata": {},
   "outputs": [
    {
     "data": {
      "text/plain": [
       "Urban       66\n",
       "Suburban    36\n",
       "Rural       18\n",
       "Name: type, dtype: int64"
      ]
     },
     "execution_count": 254,
     "metadata": {},
     "output_type": "execute_result"
    }
   ],
   "source": [
    "#Average Fare by city\n",
    "average_fare = combined_data_df.groupby(\"city\")[\"fare\"].mean()\n",
    "#Total Rides by city\n",
    "total_rides = ride_data_df.groupby(\"city\")[\"ride_id\"].count()\n",
    "#Total Drivers by city\n",
    "total_drivers = city_data_df.groupby(\"city\")[\"driver_count\"].sum()\n",
    "#City Type (Urban, Rural, Suburban)\n",
    "city_types = city_data_df.set_index(\"city\")[\"type\"]\n",
    "city_types.value_counts()\n"
   ]
  },
  {
   "cell_type": "code",
   "execution_count": 255,
   "metadata": {},
   "outputs": [
    {
     "data": {
      "text/html": [
       "<div>\n",
       "<style scoped>\n",
       "    .dataframe tbody tr th:only-of-type {\n",
       "        vertical-align: middle;\n",
       "    }\n",
       "\n",
       "    .dataframe tbody tr th {\n",
       "        vertical-align: top;\n",
       "    }\n",
       "\n",
       "    .dataframe thead th {\n",
       "        text-align: right;\n",
       "    }\n",
       "</style>\n",
       "<table border=\"1\" class=\"dataframe\">\n",
       "  <thead>\n",
       "    <tr style=\"text-align: right;\">\n",
       "      <th></th>\n",
       "      <th>Average Fare per City</th>\n",
       "      <th>Total Rides</th>\n",
       "      <th>Number of Drivers</th>\n",
       "      <th>City Types</th>\n",
       "    </tr>\n",
       "  </thead>\n",
       "  <tbody>\n",
       "    <tr>\n",
       "      <th>Amandaburgh</th>\n",
       "      <td>25.389412</td>\n",
       "      <td>18</td>\n",
       "      <td>12</td>\n",
       "      <td>Urban</td>\n",
       "    </tr>\n",
       "    <tr>\n",
       "      <th>Barajasview</th>\n",
       "      <td>25.332273</td>\n",
       "      <td>22</td>\n",
       "      <td>26</td>\n",
       "      <td>Urban</td>\n",
       "    </tr>\n",
       "    <tr>\n",
       "      <th>Barronchester</th>\n",
       "      <td>36.422500</td>\n",
       "      <td>16</td>\n",
       "      <td>11</td>\n",
       "      <td>Suburban</td>\n",
       "    </tr>\n",
       "    <tr>\n",
       "      <th>Bethanyland</th>\n",
       "      <td>32.956111</td>\n",
       "      <td>18</td>\n",
       "      <td>22</td>\n",
       "      <td>Suburban</td>\n",
       "    </tr>\n",
       "    <tr>\n",
       "      <th>Bradshawfurt</th>\n",
       "      <td>40.064000</td>\n",
       "      <td>10</td>\n",
       "      <td>7</td>\n",
       "      <td>Rural</td>\n",
       "    </tr>\n",
       "    <tr>\n",
       "      <th>Brandonfort</th>\n",
       "      <td>35.437368</td>\n",
       "      <td>19</td>\n",
       "      <td>10</td>\n",
       "      <td>Suburban</td>\n",
       "    </tr>\n",
       "    <tr>\n",
       "      <th>Carriemouth</th>\n",
       "      <td>28.314444</td>\n",
       "      <td>27</td>\n",
       "      <td>52</td>\n",
       "      <td>Urban</td>\n",
       "    </tr>\n",
       "    <tr>\n",
       "      <th>Christopherfurt</th>\n",
       "      <td>24.501852</td>\n",
       "      <td>27</td>\n",
       "      <td>41</td>\n",
       "      <td>Urban</td>\n",
       "    </tr>\n",
       "    <tr>\n",
       "      <th>Colemanland</th>\n",
       "      <td>30.894545</td>\n",
       "      <td>22</td>\n",
       "      <td>23</td>\n",
       "      <td>Suburban</td>\n",
       "    </tr>\n",
       "    <tr>\n",
       "      <th>Davidfurt</th>\n",
       "      <td>31.995882</td>\n",
       "      <td>17</td>\n",
       "      <td>23</td>\n",
       "      <td>Suburban</td>\n",
       "    </tr>\n",
       "  </tbody>\n",
       "</table>\n",
       "</div>"
      ],
      "text/plain": [
       "                 Average Fare per City  Total Rides  Number of Drivers  \\\n",
       "Amandaburgh                  25.389412           18                 12   \n",
       "Barajasview                  25.332273           22                 26   \n",
       "Barronchester                36.422500           16                 11   \n",
       "Bethanyland                  32.956111           18                 22   \n",
       "Bradshawfurt                 40.064000           10                  7   \n",
       "Brandonfort                  35.437368           19                 10   \n",
       "Carriemouth                  28.314444           27                 52   \n",
       "Christopherfurt              24.501852           27                 41   \n",
       "Colemanland                  30.894545           22                 23   \n",
       "Davidfurt                    31.995882           17                 23   \n",
       "\n",
       "                City Types  \n",
       "Amandaburgh          Urban  \n",
       "Barajasview          Urban  \n",
       "Barronchester     Suburban  \n",
       "Bethanyland       Suburban  \n",
       "Bradshawfurt         Rural  \n",
       "Brandonfort       Suburban  \n",
       "Carriemouth          Urban  \n",
       "Christopherfurt      Urban  \n",
       "Colemanland       Suburban  \n",
       "Davidfurt         Suburban  "
      ]
     },
     "execution_count": 255,
     "metadata": {},
     "output_type": "execute_result"
    }
   ],
   "source": [
    "#City Data Overview\n",
    "city_data_summary = pd.DataFrame({\n",
    "                \"Average Fare per City\":average_fare,\n",
    "                \"Total Rides\": total_rides,\n",
    "                \"Number of Drivers\": total_drivers,\n",
    "                \"City Types\": city_types\n",
    "})\n",
    "city_data_summary.head(10)"
   ]
  },
  {
   "cell_type": "markdown",
   "metadata": {},
   "source": [
    "Ride Share Bubble Plot"
   ]
  },
  {
   "cell_type": "code",
   "execution_count": 256,
   "metadata": {},
   "outputs": [
    {
     "data": {
      "image/png": "[encoded data removed]",
      "text/plain": [
       "<Figure size 432x288 with 1 Axes>"
      ]
     },
     "metadata": {
      "needs_background": "light"
     },
     "output_type": "display_data"
    }
   ],
   "source": [
    "#City Types\n",
    "rural = city_data_summary.loc[city_data_summary[\"City Types\"]== \"Rural\"]\n",
    "urban = city_data_summary.loc[city_data_summary[\"City Types\"]== \"Urban\"]\n",
    "suburban = city_data_summary.loc[city_data_summary[\"City Types\"]== \"Suburban\"]\n",
    "\n",
    "# Build the scatter plots for each city types\n",
    "plt.scatter(rural[\"Total Rides\"], rural[\"Average Fare per City\"], color = \"gold\", edgecolors = \"black\", s = rural[\"Number of Drivers\"]*20, label = \"Rural\", alpha = 0.5, linewidth=1.5)\n",
    "plt.scatter(urban[\"Total Rides\"], urban[\"Average Fare per City\"], color = \"lightcoral\", edgecolors=\"black\", s = urban[\"Number of Drivers\"]*20, label = \"Urban\", alpha = 0.5, linewidth = 1.5)\n",
    "plt.scatter(suburban[\"Total Rides\"], suburban[\"Average Fare per City\"], color = \"lightskyblue\", edgecolors =\"black\", s = suburban[\"Number of Drivers\"]*20, label = \"Suburban\", alpha = 0.5, linewidth = 1.5)\n",
    "# Create a legend\n",
    "plt.title(\"Pyber Ride Sharing Data (2016)\")\n",
    "plt.xlabel(\"Total Number of Rides (per city)\")\n",
    "plt.ylabel(\"Average Fare per City ($)\")\n",
    "plt.legend(loc=\"best\")\n",
    "# Incorporate a text label regarding circle size\n",
    "plt.text(10, 10, \"Note: Circle size correlates with the driver count per city\")\n",
    "\n",
    "# Save Figure\n",
    "plt.savefig(\"RideShareBubblePlot.png\")\n",
    "\n",
    "#Plot\n",
    "plt.show()"
   ]
  },
  {
   "cell_type": "markdown",
   "metadata": {},
   "source": [
    "Total Fares by City Type"
   ]
  },
  {
   "cell_type": "code",
   "execution_count": 257,
   "metadata": {},
   "outputs": [
    {
     "data": {
      "image/png": "[encoded data removed]",
      "text/plain": [
       "<Figure size 432x288 with 1 Axes>"
      ]
     },
     "metadata": {},
     "output_type": "display_data"
    }
   ],
   "source": [
    "# Calculate Type\n",
    "city_fares = combined_data_df.groupby(\"type\")[\"fare\"].sum()\n",
    "\n",
    "# Build Pie Chart(with percents)\n",
    "colors=[\"gold\", \"lightskyblue\", \"lightcoral\"]\n",
    "explode = (0, 0, 0.1) \n",
    "plt.pie(city_fares, explode=explode, labels=city_fares.index, colors=colors, autopct=\"%1.2f%%\", shadow=True, startangle=90)\n",
    "plt.axis=(\"equal\")\n",
    "plt.legend(loc=\"lower right\")\n",
    "\n",
    "\n",
    "# Save Figure\n",
    "plt.savefig(\"CityTypeFares.png\")\n",
    "\n",
    "#Show Plot\n",
    "plt.show()"
   ]
  },
  {
   "cell_type": "markdown",
   "metadata": {},
   "source": [
    "Total Rides by City Type"
   ]
  },
  {
   "cell_type": "code",
   "execution_count": 258,
   "metadata": {},
   "outputs": [
    {
     "data": {
      "image/png": "[encoded data removed]",
      "text/plain": [
       "<Figure size 432x288 with 1 Axes>"
      ]
     },
     "metadata": {},
     "output_type": "display_data"
    }
   ],
   "source": [
    "# Calculate Type\n",
    "city_rides = combined_data_df.groupby(\"type\")[\"ride_id\"].sum()\n",
    "\n",
    "# Build Pie Chart(with percents)\n",
    "colors=[\"gold\", \"lightskyblue\", \"lightcoral\"]\n",
    "explode=(0,0,0.1)\n",
    "plt.pie(city_rides, explode=explode, labels=city_rides.index, colors=colors, autopct=\"%1.2f%%\", shadow=True, startangle=90)\n",
    "plt.axis=(\"equal\")\n",
    "plt.legend(loc=\"upper right\")\n",
    "\n",
    "\n",
    "# Save Figure\n",
    "plt.savefig(\"RidesbyCity.png\")\n",
    "\n",
    "#Show Plot\n",
    "plt.show()"
   ]
  },
  {
   "cell_type": "markdown",
   "metadata": {},
   "source": [
    "Total Drivers by City Type"
   ]
  },
  {
   "cell_type": "code",
   "execution_count": 259,
   "metadata": {},
   "outputs": [
    {
     "data": {
      "image/png": "[encoded data removed]",
      "text/plain": [
       "<Figure size 432x288 with 1 Axes>"
      ]
     },
     "metadata": {},
     "output_type": "display_data"
    }
   ],
   "source": [
    "# Calculate Type\n",
    "city_drivers = city_data_df.groupby(\"type\")[\"driver_count\"].sum()\n",
    "\n",
    "# Build Pie Chart(with percents)\n",
    "colors=[\"gold\", \"lightskyblue\", \"lightcoral\"]\n",
    "explode=(0,0,0.1)\n",
    "plt.pie(city_drivers, explode=explode, labels=city_drivers.index, colors=colors, autopct=\"%1.2f%%\", shadow=True, startangle=90)\n",
    "plt.axis=(\"equal\")\n",
    "plt.legend(loc=\"best\")\n",
    "\n",
    "# Save Figure\n",
    "plt.savefig(\"DriversbyCity.png\")\n",
    "\n",
    "#Show Plot\n",
    "plt.show()"
   ]
  },
  {
   "cell_type": "code",
   "execution_count": null,
   "metadata": {},
   "outputs": [],
   "source": []
  },
  {
   "cell_type": "code",
   "execution_count": null,
   "metadata": {},
   "outputs": [],
   "source": []
  }
 ],
 "metadata": {
  "kernelspec": {
   "display_name": "Python 3",
   "language": "python",
   "name": "python3"
  },
  "language_info": {
   "codemirror_mode": {
    "name": "ipython",
    "version": 3
   },
   "file_extension": ".py",
   "mimetype": "text/x-python",
   "name": "python",
   "nbconvert_exporter": "python",
   "pygments_lexer": "ipython3",
   "version": "3.7.3"
  }
 },
 "nbformat": 4,
 "nbformat_minor": 2
}
